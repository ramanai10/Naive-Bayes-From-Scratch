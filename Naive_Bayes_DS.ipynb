{
 "cells": [
  {
   "cell_type": "code",
   "execution_count": 2,
   "metadata": {},
   "outputs": [],
   "source": [
    "import pandas as pd"
   ]
  },
  {
   "cell_type": "code",
   "execution_count": 3,
   "metadata": {},
   "outputs": [],
   "source": [
    "da = pd.read_csv(\"C:\\MTech Data Science\\Mini Project\\diabetes_data_upload.csv\")"
   ]
  },
  {
   "cell_type": "code",
   "execution_count": 4,
   "metadata": {},
   "outputs": [
    {
     "data": {
      "text/html": [
       "<div>\n",
       "<style scoped>\n",
       "    .dataframe tbody tr th:only-of-type {\n",
       "        vertical-align: middle;\n",
       "    }\n",
       "\n",
       "    .dataframe tbody tr th {\n",
       "        vertical-align: top;\n",
       "    }\n",
       "\n",
       "    .dataframe thead th {\n",
       "        text-align: right;\n",
       "    }\n",
       "</style>\n",
       "<table border=\"1\" class=\"dataframe\">\n",
       "  <thead>\n",
       "    <tr style=\"text-align: right;\">\n",
       "      <th></th>\n",
       "      <th>Age</th>\n",
       "      <th>Gender</th>\n",
       "      <th>Polyuria</th>\n",
       "      <th>Polydipsia</th>\n",
       "      <th>sudden weight loss</th>\n",
       "      <th>weakness</th>\n",
       "      <th>Polyphagia</th>\n",
       "      <th>Genital thrush</th>\n",
       "      <th>visual blurring</th>\n",
       "      <th>Itching</th>\n",
       "      <th>Irritability</th>\n",
       "      <th>delayed healing</th>\n",
       "      <th>partial paresis</th>\n",
       "      <th>muscle stiffness</th>\n",
       "      <th>Alopecia</th>\n",
       "      <th>Obesity</th>\n",
       "      <th>class</th>\n",
       "    </tr>\n",
       "  </thead>\n",
       "  <tbody>\n",
       "    <tr>\n",
       "      <th>0</th>\n",
       "      <td>40</td>\n",
       "      <td>Male</td>\n",
       "      <td>No</td>\n",
       "      <td>Yes</td>\n",
       "      <td>No</td>\n",
       "      <td>Yes</td>\n",
       "      <td>No</td>\n",
       "      <td>No</td>\n",
       "      <td>No</td>\n",
       "      <td>Yes</td>\n",
       "      <td>No</td>\n",
       "      <td>Yes</td>\n",
       "      <td>No</td>\n",
       "      <td>Yes</td>\n",
       "      <td>Yes</td>\n",
       "      <td>Yes</td>\n",
       "      <td>Positive</td>\n",
       "    </tr>\n",
       "    <tr>\n",
       "      <th>1</th>\n",
       "      <td>58</td>\n",
       "      <td>Male</td>\n",
       "      <td>No</td>\n",
       "      <td>No</td>\n",
       "      <td>No</td>\n",
       "      <td>Yes</td>\n",
       "      <td>No</td>\n",
       "      <td>No</td>\n",
       "      <td>Yes</td>\n",
       "      <td>No</td>\n",
       "      <td>No</td>\n",
       "      <td>No</td>\n",
       "      <td>Yes</td>\n",
       "      <td>No</td>\n",
       "      <td>Yes</td>\n",
       "      <td>No</td>\n",
       "      <td>Positive</td>\n",
       "    </tr>\n",
       "    <tr>\n",
       "      <th>2</th>\n",
       "      <td>41</td>\n",
       "      <td>Male</td>\n",
       "      <td>Yes</td>\n",
       "      <td>No</td>\n",
       "      <td>No</td>\n",
       "      <td>Yes</td>\n",
       "      <td>Yes</td>\n",
       "      <td>No</td>\n",
       "      <td>No</td>\n",
       "      <td>Yes</td>\n",
       "      <td>No</td>\n",
       "      <td>Yes</td>\n",
       "      <td>No</td>\n",
       "      <td>Yes</td>\n",
       "      <td>Yes</td>\n",
       "      <td>No</td>\n",
       "      <td>Positive</td>\n",
       "    </tr>\n",
       "    <tr>\n",
       "      <th>3</th>\n",
       "      <td>45</td>\n",
       "      <td>Male</td>\n",
       "      <td>No</td>\n",
       "      <td>No</td>\n",
       "      <td>Yes</td>\n",
       "      <td>Yes</td>\n",
       "      <td>Yes</td>\n",
       "      <td>Yes</td>\n",
       "      <td>No</td>\n",
       "      <td>Yes</td>\n",
       "      <td>No</td>\n",
       "      <td>Yes</td>\n",
       "      <td>No</td>\n",
       "      <td>No</td>\n",
       "      <td>No</td>\n",
       "      <td>No</td>\n",
       "      <td>Positive</td>\n",
       "    </tr>\n",
       "    <tr>\n",
       "      <th>4</th>\n",
       "      <td>60</td>\n",
       "      <td>Male</td>\n",
       "      <td>Yes</td>\n",
       "      <td>Yes</td>\n",
       "      <td>Yes</td>\n",
       "      <td>Yes</td>\n",
       "      <td>Yes</td>\n",
       "      <td>No</td>\n",
       "      <td>Yes</td>\n",
       "      <td>Yes</td>\n",
       "      <td>Yes</td>\n",
       "      <td>Yes</td>\n",
       "      <td>Yes</td>\n",
       "      <td>Yes</td>\n",
       "      <td>Yes</td>\n",
       "      <td>Yes</td>\n",
       "      <td>Positive</td>\n",
       "    </tr>\n",
       "  </tbody>\n",
       "</table>\n",
       "</div>"
      ],
      "text/plain": [
       "   Age Gender Polyuria Polydipsia sudden weight loss weakness Polyphagia  \\\n",
       "0   40   Male       No        Yes                 No      Yes         No   \n",
       "1   58   Male       No         No                 No      Yes         No   \n",
       "2   41   Male      Yes         No                 No      Yes        Yes   \n",
       "3   45   Male       No         No                Yes      Yes        Yes   \n",
       "4   60   Male      Yes        Yes                Yes      Yes        Yes   \n",
       "\n",
       "  Genital thrush visual blurring Itching Irritability delayed healing  \\\n",
       "0             No              No     Yes           No             Yes   \n",
       "1             No             Yes      No           No              No   \n",
       "2             No              No     Yes           No             Yes   \n",
       "3            Yes              No     Yes           No             Yes   \n",
       "4             No             Yes     Yes          Yes             Yes   \n",
       "\n",
       "  partial paresis muscle stiffness Alopecia Obesity     class  \n",
       "0              No              Yes      Yes     Yes  Positive  \n",
       "1             Yes               No      Yes      No  Positive  \n",
       "2              No              Yes      Yes      No  Positive  \n",
       "3              No               No       No      No  Positive  \n",
       "4             Yes              Yes      Yes     Yes  Positive  "
      ]
     },
     "execution_count": 4,
     "metadata": {},
     "output_type": "execute_result"
    }
   ],
   "source": [
    "da[0:5]"
   ]
  },
  {
   "cell_type": "code",
   "execution_count": 5,
   "metadata": {},
   "outputs": [
    {
     "data": {
      "text/html": [
       "<div>\n",
       "<style scoped>\n",
       "    .dataframe tbody tr th:only-of-type {\n",
       "        vertical-align: middle;\n",
       "    }\n",
       "\n",
       "    .dataframe tbody tr th {\n",
       "        vertical-align: top;\n",
       "    }\n",
       "\n",
       "    .dataframe thead th {\n",
       "        text-align: right;\n",
       "    }\n",
       "</style>\n",
       "<table border=\"1\" class=\"dataframe\">\n",
       "  <thead>\n",
       "    <tr style=\"text-align: right;\">\n",
       "      <th></th>\n",
       "      <th>Gender</th>\n",
       "      <th>Positive</th>\n",
       "      <th>Negative</th>\n",
       "    </tr>\n",
       "  </thead>\n",
       "  <tbody>\n",
       "    <tr>\n",
       "      <th>0</th>\n",
       "      <td>Male</td>\n",
       "      <td>0</td>\n",
       "      <td>0</td>\n",
       "    </tr>\n",
       "    <tr>\n",
       "      <th>1</th>\n",
       "      <td>Female</td>\n",
       "      <td>0</td>\n",
       "      <td>0</td>\n",
       "    </tr>\n",
       "  </tbody>\n",
       "</table>\n",
       "</div>"
      ],
      "text/plain": [
       "   Gender  Positive  Negative\n",
       "0    Male         0         0\n",
       "1  Female         0         0"
      ]
     },
     "execution_count": 5,
     "metadata": {},
     "output_type": "execute_result"
    }
   ],
   "source": [
    "data = {'Gender':['Male','Female'], 'Positive':[int(0), int(0)],'Negative':[int(0), int(0)]}\n",
    "df = pd.DataFrame(data, columns=['Gender', 'Positive', 'Negative'])\n",
    "df"
   ]
  },
  {
   "cell_type": "code",
   "execution_count": 6,
   "metadata": {},
   "outputs": [],
   "source": [
    "for i in range(len(da)):\n",
    "    if da.iloc[i,1] == 'Male':\n",
    "        if da.iloc[i,-1] == 'Positive':\n",
    "            df.iloc[0,1] = df.iloc[0,1] + 1\n",
    "        else:\n",
    "            df.iloc[0,2] = df.iloc[0,2] + 1\n",
    "    elif da.iloc[i,1] == 'Female':\n",
    "        if da.iloc[i,-1] == 'Positive':\n",
    "            df.iloc[1,1] = df.iloc[1,1] + 1\n",
    "        else:\n",
    "            df.iloc[1,2] = df.iloc[1,2] + 1\n",
    "    else:\n",
    "        pass"
   ]
  },
  {
   "cell_type": "code",
   "execution_count": 7,
   "metadata": {},
   "outputs": [
    {
     "data": {
      "text/html": [
       "<div>\n",
       "<style scoped>\n",
       "    .dataframe tbody tr th:only-of-type {\n",
       "        vertical-align: middle;\n",
       "    }\n",
       "\n",
       "    .dataframe tbody tr th {\n",
       "        vertical-align: top;\n",
       "    }\n",
       "\n",
       "    .dataframe thead th {\n",
       "        text-align: right;\n",
       "    }\n",
       "</style>\n",
       "<table border=\"1\" class=\"dataframe\">\n",
       "  <thead>\n",
       "    <tr style=\"text-align: right;\">\n",
       "      <th></th>\n",
       "      <th>Gender</th>\n",
       "      <th>Positive</th>\n",
       "      <th>Negative</th>\n",
       "    </tr>\n",
       "  </thead>\n",
       "  <tbody>\n",
       "    <tr>\n",
       "      <th>0</th>\n",
       "      <td>Male</td>\n",
       "      <td>147</td>\n",
       "      <td>181</td>\n",
       "    </tr>\n",
       "    <tr>\n",
       "      <th>1</th>\n",
       "      <td>Female</td>\n",
       "      <td>173</td>\n",
       "      <td>19</td>\n",
       "    </tr>\n",
       "  </tbody>\n",
       "</table>\n",
       "</div>"
      ],
      "text/plain": [
       "   Gender  Positive  Negative\n",
       "0    Male       147       181\n",
       "1  Female       173        19"
      ]
     },
     "execution_count": 7,
     "metadata": {},
     "output_type": "execute_result"
    }
   ],
   "source": [
    "#Frequency table\n",
    "df"
   ]
  },
  {
   "cell_type": "code",
   "execution_count": 8,
   "metadata": {},
   "outputs": [],
   "source": [
    "p = df.iloc[:,1].sum()\n",
    "n = df.iloc[:,2].sum()"
   ]
  },
  {
   "cell_type": "code",
   "execution_count": 9,
   "metadata": {},
   "outputs": [
    {
     "data": {
      "text/plain": [
       "2"
      ]
     },
     "execution_count": 9,
     "metadata": {},
     "output_type": "execute_result"
    }
   ],
   "source": [
    "len(df.index)"
   ]
  },
  {
   "cell_type": "code",
   "execution_count": 10,
   "metadata": {},
   "outputs": [],
   "source": [
    "df.loc[len(df.index)] = ['Total', p, n]  "
   ]
  },
  {
   "cell_type": "code",
   "execution_count": 11,
   "metadata": {},
   "outputs": [
    {
     "data": {
      "text/html": [
       "<div>\n",
       "<style scoped>\n",
       "    .dataframe tbody tr th:only-of-type {\n",
       "        vertical-align: middle;\n",
       "    }\n",
       "\n",
       "    .dataframe tbody tr th {\n",
       "        vertical-align: top;\n",
       "    }\n",
       "\n",
       "    .dataframe thead th {\n",
       "        text-align: right;\n",
       "    }\n",
       "</style>\n",
       "<table border=\"1\" class=\"dataframe\">\n",
       "  <thead>\n",
       "    <tr style=\"text-align: right;\">\n",
       "      <th></th>\n",
       "      <th>Gender</th>\n",
       "      <th>Positive</th>\n",
       "      <th>Negative</th>\n",
       "    </tr>\n",
       "  </thead>\n",
       "  <tbody>\n",
       "    <tr>\n",
       "      <th>0</th>\n",
       "      <td>Male</td>\n",
       "      <td>147</td>\n",
       "      <td>181</td>\n",
       "    </tr>\n",
       "    <tr>\n",
       "      <th>1</th>\n",
       "      <td>Female</td>\n",
       "      <td>173</td>\n",
       "      <td>19</td>\n",
       "    </tr>\n",
       "    <tr>\n",
       "      <th>2</th>\n",
       "      <td>Total</td>\n",
       "      <td>320</td>\n",
       "      <td>200</td>\n",
       "    </tr>\n",
       "  </tbody>\n",
       "</table>\n",
       "</div>"
      ],
      "text/plain": [
       "   Gender  Positive  Negative\n",
       "0    Male       147       181\n",
       "1  Female       173        19\n",
       "2   Total       320       200"
      ]
     },
     "execution_count": 11,
     "metadata": {},
     "output_type": "execute_result"
    }
   ],
   "source": [
    "#Total Count\n",
    "df"
   ]
  },
  {
   "cell_type": "code",
   "execution_count": 12,
   "metadata": {},
   "outputs": [
    {
     "data": {
      "text/plain": [
       "520"
      ]
     },
     "metadata": {},
     "output_type": "display_data"
    }
   ],
   "source": [
    "s = df.iloc[2,1:].sum()\n",
    "display(s)"
   ]
  },
  {
   "cell_type": "code",
   "execution_count": 13,
   "metadata": {},
   "outputs": [
    {
     "data": {
      "text/html": [
       "<div>\n",
       "<style scoped>\n",
       "    .dataframe tbody tr th:only-of-type {\n",
       "        vertical-align: middle;\n",
       "    }\n",
       "\n",
       "    .dataframe tbody tr th {\n",
       "        vertical-align: top;\n",
       "    }\n",
       "\n",
       "    .dataframe thead th {\n",
       "        text-align: right;\n",
       "    }\n",
       "</style>\n",
       "<table border=\"1\" class=\"dataframe\">\n",
       "  <thead>\n",
       "    <tr style=\"text-align: right;\">\n",
       "      <th></th>\n",
       "      <th>Gender</th>\n",
       "      <th>Positive</th>\n",
       "      <th>Negative</th>\n",
       "    </tr>\n",
       "  </thead>\n",
       "  <tbody>\n",
       "    <tr>\n",
       "      <th>0</th>\n",
       "      <td>Male</td>\n",
       "      <td>0.282692</td>\n",
       "      <td>0.348077</td>\n",
       "    </tr>\n",
       "    <tr>\n",
       "      <th>1</th>\n",
       "      <td>Female</td>\n",
       "      <td>0.332692</td>\n",
       "      <td>0.036538</td>\n",
       "    </tr>\n",
       "    <tr>\n",
       "      <th>2</th>\n",
       "      <td>Total</td>\n",
       "      <td>0.615385</td>\n",
       "      <td>0.384615</td>\n",
       "    </tr>\n",
       "  </tbody>\n",
       "</table>\n",
       "</div>"
      ],
      "text/plain": [
       "   Gender  Positive  Negative\n",
       "0    Male  0.282692  0.348077\n",
       "1  Female  0.332692  0.036538\n",
       "2   Total  0.615385  0.384615"
      ]
     },
     "execution_count": 13,
     "metadata": {},
     "output_type": "execute_result"
    }
   ],
   "source": [
    "#Build Likelihood table 1\n",
    "a = {'Gender':['Male','Female','Total'], 'Positive':[float(df.iloc[0,1] / s), float(df.iloc[1,1] / s), float(df.iloc[2,1] / s)],'Negative':[float(df.iloc[0,2] / s), float(df.iloc[1,2] / s), float(df.iloc[2,2] / s)]}\n",
    "df1 = pd.DataFrame(a, columns=['Gender', 'Positive', 'Negative'])\n",
    "df1"
   ]
  },
  {
   "cell_type": "code",
   "execution_count": 14,
   "metadata": {},
   "outputs": [
    {
     "data": {
      "text/html": [
       "<div>\n",
       "<style scoped>\n",
       "    .dataframe tbody tr th:only-of-type {\n",
       "        vertical-align: middle;\n",
       "    }\n",
       "\n",
       "    .dataframe tbody tr th {\n",
       "        vertical-align: top;\n",
       "    }\n",
       "\n",
       "    .dataframe thead th {\n",
       "        text-align: right;\n",
       "    }\n",
       "</style>\n",
       "<table border=\"1\" class=\"dataframe\">\n",
       "  <thead>\n",
       "    <tr style=\"text-align: right;\">\n",
       "      <th></th>\n",
       "      <th>Gender</th>\n",
       "      <th>Positive</th>\n",
       "      <th>Negative</th>\n",
       "    </tr>\n",
       "  </thead>\n",
       "  <tbody>\n",
       "    <tr>\n",
       "      <th>0</th>\n",
       "      <td>Male</td>\n",
       "      <td>0.459375</td>\n",
       "      <td>0.905</td>\n",
       "    </tr>\n",
       "    <tr>\n",
       "      <th>1</th>\n",
       "      <td>Female</td>\n",
       "      <td>0.540625</td>\n",
       "      <td>0.095</td>\n",
       "    </tr>\n",
       "    <tr>\n",
       "      <th>2</th>\n",
       "      <td>Total</td>\n",
       "      <td>320.000000</td>\n",
       "      <td>200.000</td>\n",
       "    </tr>\n",
       "  </tbody>\n",
       "</table>\n",
       "</div>"
      ],
      "text/plain": [
       "   Gender    Positive  Negative\n",
       "0    Male    0.459375     0.905\n",
       "1  Female    0.540625     0.095\n",
       "2   Total  320.000000   200.000"
      ]
     },
     "execution_count": 14,
     "metadata": {},
     "output_type": "execute_result"
    }
   ],
   "source": [
    "#Build Likelihood table 2\n",
    "b = {'Gender':['Male','Female','Total'], 'Positive':[float(df.iloc[0,1]/df.iloc[2,1]), float(df.iloc[1,1]/df.iloc[2,1]),df.iloc[2,1]],'Negative':[float(df.iloc[0,2]/df.iloc[2,2]), float(df.iloc[1,2]/df.iloc[2,2]),df.iloc[2,2]]}\n",
    "df2 = pd.DataFrame(b, columns=['Gender', 'Positive', 'Negative'])\n",
    "df2"
   ]
  },
  {
   "cell_type": "code",
   "execution_count": 15,
   "metadata": {},
   "outputs": [
    {
     "data": {
      "text/plain": [
       "0.4481707317073171"
      ]
     },
     "metadata": {},
     "output_type": "display_data"
    }
   ],
   "source": [
    "#P(Positive|Male) = P(Male|Positive) * P(Positive) / P(Male)\n",
    "prob_pos_men = float(df2.iloc[0,1] * df1.iloc[2,1] / (df1.iloc[0,1] + df1.iloc[0,2]))\n",
    "display(prob_pos_men)"
   ]
  },
  {
   "cell_type": "code",
   "execution_count": 16,
   "metadata": {},
   "outputs": [
    {
     "data": {
      "text/plain": [
       "0.9010416666666669"
      ]
     },
     "metadata": {},
     "output_type": "display_data"
    }
   ],
   "source": [
    "#P(Positive|Female) = P(Female|Positive) * P(Positive) / P(Female)\n",
    "prob_pos_female = float(df2.iloc[1,1] * df1.iloc[2,1] / (df1.iloc[1,1] + df1.iloc[1,2]))\n",
    "display(prob_pos_female)"
   ]
  },
  {
   "cell_type": "code",
   "execution_count": 17,
   "metadata": {},
   "outputs": [],
   "source": [
    "#Thus it proves that the likelihood of \"Females\" having diabetes is high"
   ]
  },
  {
   "cell_type": "code",
   "execution_count": 18,
   "metadata": {},
   "outputs": [],
   "source": [
    "d= {'Age Group':['<=30','31-40','41-50','51-60','61-70','71-80','>80'], 'Positive':[0,0,0,0,0,0,0], 'Negative':[0,0,0,0,0,0,0]}\n",
    "df3 = pd.DataFrame(d, columns=['Age Group','Positive','Negative'])"
   ]
  },
  {
   "cell_type": "code",
   "execution_count": 19,
   "metadata": {},
   "outputs": [],
   "source": [
    "for j in range(len(da)):\n",
    "    if da.iloc[j,0] <= 30:\n",
    "        if da.iloc[j,-1] == 'Positive':\n",
    "            df3.iloc[0,1] = df3.iloc[0,1] + 1\n",
    "        else:\n",
    "            df3.iloc[0,2] = df3.iloc[0,2] + 1\n",
    "    elif da.iloc[j,0] >30 and da.iloc[j,0] <=40:\n",
    "        if da.iloc[j,-1] == 'Positive':\n",
    "            df3.iloc[1,1] = df3.iloc[1,1] + 1\n",
    "        else:\n",
    "            df3.iloc[1,2] = df3.iloc[1,2] + 1\n",
    "    elif da.iloc[j,0] >40 and da.iloc[j,0] <=50:\n",
    "        if da.iloc[j,-1] == 'Positive':\n",
    "            df3.iloc[2,1] = df3.iloc[2,1] + 1\n",
    "        else:\n",
    "            df3.iloc[2,2] = df3.iloc[2,2] + 1\n",
    "    elif da.iloc[j,0] >50 and da.iloc[j,0] <=60:\n",
    "        if da.iloc[j,-1] == 'Positive':\n",
    "            df3.iloc[3,1] = df3.iloc[3,1] + 1\n",
    "        else:\n",
    "            df3.iloc[3,2] = df3.iloc[3,2] + 1\n",
    "    elif da.iloc[j,0] >60 and da.iloc[j,0] <=70:\n",
    "        if da.iloc[j,-1] == 'Positive':\n",
    "            df3.iloc[4,1] = df3.iloc[4,1] + 1\n",
    "        else:\n",
    "            df3.iloc[4,2] = df3.iloc[4,2] + 1\n",
    "    elif da.iloc[j,0] >70 and da.iloc[j,0] <=80:\n",
    "        if da.iloc[j,-1] == 'Positive':\n",
    "            df3.iloc[5,1] = df3.iloc[5,1] + 1\n",
    "        else:\n",
    "            df3.iloc[5,2] = df3.iloc[5,2] + 1\n",
    "    else:\n",
    "        if da.iloc[j,-1] == 'Positive':\n",
    "            df3.iloc[6,1] = df3.iloc[6,1] + 1\n",
    "        else:\n",
    "            df3.iloc[6,2] = df3.iloc[6,2] + 1"
   ]
  },
  {
   "cell_type": "code",
   "execution_count": 20,
   "metadata": {},
   "outputs": [
    {
     "data": {
      "text/html": [
       "<div>\n",
       "<style scoped>\n",
       "    .dataframe tbody tr th:only-of-type {\n",
       "        vertical-align: middle;\n",
       "    }\n",
       "\n",
       "    .dataframe tbody tr th {\n",
       "        vertical-align: top;\n",
       "    }\n",
       "\n",
       "    .dataframe thead th {\n",
       "        text-align: right;\n",
       "    }\n",
       "</style>\n",
       "<table border=\"1\" class=\"dataframe\">\n",
       "  <thead>\n",
       "    <tr style=\"text-align: right;\">\n",
       "      <th></th>\n",
       "      <th>Age Group</th>\n",
       "      <th>Positive</th>\n",
       "      <th>Negative</th>\n",
       "    </tr>\n",
       "  </thead>\n",
       "  <tbody>\n",
       "    <tr>\n",
       "      <th>0</th>\n",
       "      <td>&lt;=30</td>\n",
       "      <td>15</td>\n",
       "      <td>30</td>\n",
       "    </tr>\n",
       "    <tr>\n",
       "      <th>1</th>\n",
       "      <td>31-40</td>\n",
       "      <td>84</td>\n",
       "      <td>39</td>\n",
       "    </tr>\n",
       "    <tr>\n",
       "      <th>2</th>\n",
       "      <td>41-50</td>\n",
       "      <td>87</td>\n",
       "      <td>58</td>\n",
       "    </tr>\n",
       "    <tr>\n",
       "      <th>3</th>\n",
       "      <td>51-60</td>\n",
       "      <td>78</td>\n",
       "      <td>49</td>\n",
       "    </tr>\n",
       "    <tr>\n",
       "      <th>4</th>\n",
       "      <td>61-70</td>\n",
       "      <td>49</td>\n",
       "      <td>17</td>\n",
       "    </tr>\n",
       "    <tr>\n",
       "      <th>5</th>\n",
       "      <td>71-80</td>\n",
       "      <td>3</td>\n",
       "      <td>7</td>\n",
       "    </tr>\n",
       "    <tr>\n",
       "      <th>6</th>\n",
       "      <td>&gt;80</td>\n",
       "      <td>4</td>\n",
       "      <td>0</td>\n",
       "    </tr>\n",
       "  </tbody>\n",
       "</table>\n",
       "</div>"
      ],
      "text/plain": [
       "  Age Group  Positive  Negative\n",
       "0      <=30        15        30\n",
       "1     31-40        84        39\n",
       "2     41-50        87        58\n",
       "3     51-60        78        49\n",
       "4     61-70        49        17\n",
       "5     71-80         3         7\n",
       "6       >80         4         0"
      ]
     },
     "metadata": {},
     "output_type": "display_data"
    }
   ],
   "source": [
    "display(df3)"
   ]
  },
  {
   "cell_type": "code",
   "execution_count": 21,
   "metadata": {},
   "outputs": [
    {
     "data": {
      "text/plain": [
       "320"
      ]
     },
     "metadata": {},
     "output_type": "display_data"
    },
    {
     "data": {
      "text/plain": [
       "200"
      ]
     },
     "metadata": {},
     "output_type": "display_data"
    }
   ],
   "source": [
    "p1 = df3.iloc[:,1].sum()\n",
    "n1 = df3.iloc[:,2].sum()\n",
    "display(p1, n1)"
   ]
  },
  {
   "cell_type": "code",
   "execution_count": 22,
   "metadata": {},
   "outputs": [
    {
     "data": {
      "text/html": [
       "<div>\n",
       "<style scoped>\n",
       "    .dataframe tbody tr th:only-of-type {\n",
       "        vertical-align: middle;\n",
       "    }\n",
       "\n",
       "    .dataframe tbody tr th {\n",
       "        vertical-align: top;\n",
       "    }\n",
       "\n",
       "    .dataframe thead th {\n",
       "        text-align: right;\n",
       "    }\n",
       "</style>\n",
       "<table border=\"1\" class=\"dataframe\">\n",
       "  <thead>\n",
       "    <tr style=\"text-align: right;\">\n",
       "      <th></th>\n",
       "      <th>Gender</th>\n",
       "      <th>Positive</th>\n",
       "      <th>Negative</th>\n",
       "    </tr>\n",
       "  </thead>\n",
       "  <tbody>\n",
       "    <tr>\n",
       "      <th>0</th>\n",
       "      <td>Male</td>\n",
       "      <td>0.459375</td>\n",
       "      <td>0.905</td>\n",
       "    </tr>\n",
       "    <tr>\n",
       "      <th>1</th>\n",
       "      <td>Female</td>\n",
       "      <td>0.540625</td>\n",
       "      <td>0.095</td>\n",
       "    </tr>\n",
       "    <tr>\n",
       "      <th>2</th>\n",
       "      <td>Total</td>\n",
       "      <td>320.000000</td>\n",
       "      <td>200.000</td>\n",
       "    </tr>\n",
       "  </tbody>\n",
       "</table>\n",
       "</div>"
      ],
      "text/plain": [
       "   Gender    Positive  Negative\n",
       "0    Male    0.459375     0.905\n",
       "1  Female    0.540625     0.095\n",
       "2   Total  320.000000   200.000"
      ]
     },
     "execution_count": 22,
     "metadata": {},
     "output_type": "execute_result"
    }
   ],
   "source": [
    "df2"
   ]
  },
  {
   "cell_type": "code",
   "execution_count": 23,
   "metadata": {},
   "outputs": [],
   "source": [
    "d1= {'Age Group':['<=30','31-40','41-50','51-60','61-70','71-80','>80'], \n",
    "    'Positive':[float(df3.iloc[0,1]/p1), float(df3.iloc[1,1]/p1), float(df3.iloc[2,1]/p1), float(df3.iloc[3,1]/p1), float(df3.iloc[4,1]/p1), float(df3.iloc[5,1]/p1), float(df3.iloc[6,1]/p1)], \n",
    "    'Negative':[float(df3.iloc[0,2]/n1), float(df3.iloc[1,2]/n1), float(df3.iloc[2,2]/n1), float(df3.iloc[3,2]/n1), float(df3.iloc[4,2]/n1), float(df3.iloc[5,2]/n1), float(df3.iloc[6,2]/n1)]}\n",
    "df4 = pd.DataFrame(d1, columns=['Age Group','Positive','Negative'])"
   ]
  },
  {
   "cell_type": "code",
   "execution_count": 24,
   "metadata": {},
   "outputs": [
    {
     "data": {
      "text/html": [
       "<div>\n",
       "<style scoped>\n",
       "    .dataframe tbody tr th:only-of-type {\n",
       "        vertical-align: middle;\n",
       "    }\n",
       "\n",
       "    .dataframe tbody tr th {\n",
       "        vertical-align: top;\n",
       "    }\n",
       "\n",
       "    .dataframe thead th {\n",
       "        text-align: right;\n",
       "    }\n",
       "</style>\n",
       "<table border=\"1\" class=\"dataframe\">\n",
       "  <thead>\n",
       "    <tr style=\"text-align: right;\">\n",
       "      <th></th>\n",
       "      <th>Age Group</th>\n",
       "      <th>Positive</th>\n",
       "      <th>Negative</th>\n",
       "    </tr>\n",
       "  </thead>\n",
       "  <tbody>\n",
       "    <tr>\n",
       "      <th>0</th>\n",
       "      <td>&lt;=30</td>\n",
       "      <td>0.046875</td>\n",
       "      <td>0.150</td>\n",
       "    </tr>\n",
       "    <tr>\n",
       "      <th>1</th>\n",
       "      <td>31-40</td>\n",
       "      <td>0.262500</td>\n",
       "      <td>0.195</td>\n",
       "    </tr>\n",
       "    <tr>\n",
       "      <th>2</th>\n",
       "      <td>41-50</td>\n",
       "      <td>0.271875</td>\n",
       "      <td>0.290</td>\n",
       "    </tr>\n",
       "    <tr>\n",
       "      <th>3</th>\n",
       "      <td>51-60</td>\n",
       "      <td>0.243750</td>\n",
       "      <td>0.245</td>\n",
       "    </tr>\n",
       "    <tr>\n",
       "      <th>4</th>\n",
       "      <td>61-70</td>\n",
       "      <td>0.153125</td>\n",
       "      <td>0.085</td>\n",
       "    </tr>\n",
       "    <tr>\n",
       "      <th>5</th>\n",
       "      <td>71-80</td>\n",
       "      <td>0.009375</td>\n",
       "      <td>0.035</td>\n",
       "    </tr>\n",
       "    <tr>\n",
       "      <th>6</th>\n",
       "      <td>&gt;80</td>\n",
       "      <td>0.012500</td>\n",
       "      <td>0.000</td>\n",
       "    </tr>\n",
       "  </tbody>\n",
       "</table>\n",
       "</div>"
      ],
      "text/plain": [
       "  Age Group  Positive  Negative\n",
       "0      <=30  0.046875     0.150\n",
       "1     31-40  0.262500     0.195\n",
       "2     41-50  0.271875     0.290\n",
       "3     51-60  0.243750     0.245\n",
       "4     61-70  0.153125     0.085\n",
       "5     71-80  0.009375     0.035\n",
       "6       >80  0.012500     0.000"
      ]
     },
     "execution_count": 24,
     "metadata": {},
     "output_type": "execute_result"
    }
   ],
   "source": [
    "df4"
   ]
  },
  {
   "cell_type": "code",
   "execution_count": 27,
   "metadata": {},
   "outputs": [
    {
     "data": {
      "text/plain": [
       "0.09045072115384614"
      ]
     },
     "metadata": {},
     "output_type": "display_data"
    }
   ],
   "source": [
    "#t = <Positive, Female, 43>\n",
    "P_t_positive = df1.iloc[1, 1] * df4.iloc[2, 1]\n",
    "display(P_t_positive)"
   ]
  },
  {
   "cell_type": "code",
   "execution_count": 28,
   "metadata": {},
   "outputs": [
    {
     "data": {
      "text/plain": [
       "0.0556619822485207"
      ]
     },
     "execution_count": 28,
     "metadata": {},
     "output_type": "execute_result"
    }
   ],
   "source": [
    "P_t_intersection_positive = P_t_positive * df1.iloc[2, 1]\n",
    "P_t_intersection_positive"
   ]
  },
  {
   "cell_type": "code",
   "execution_count": 29,
   "metadata": {},
   "outputs": [
    {
     "data": {
      "text/plain": [
       "0.010596153846153845"
      ]
     },
     "metadata": {},
     "output_type": "display_data"
    }
   ],
   "source": [
    "P_t_negative = df1.iloc[1, 2] * df4.iloc[2, 2]\n",
    "display(P_t_negative)"
   ]
  },
  {
   "cell_type": "code",
   "execution_count": 30,
   "metadata": {},
   "outputs": [
    {
     "data": {
      "text/plain": [
       "0.004075443786982248"
      ]
     },
     "execution_count": 30,
     "metadata": {},
     "output_type": "execute_result"
    }
   ],
   "source": [
    "P_t_intersection_negative = P_t_negative * df1.iloc[2, 2]\n",
    "P_t_intersection_negative"
   ]
  },
  {
   "cell_type": "code",
   "execution_count": 31,
   "metadata": {},
   "outputs": [
    {
     "data": {
      "text/plain": [
       "0.05973742603550295"
      ]
     },
     "metadata": {},
     "output_type": "display_data"
    }
   ],
   "source": [
    "P_t = P_t_intersection_positive + P_t_intersection_negative\n",
    "display(P_t)"
   ]
  },
  {
   "cell_type": "code",
   "execution_count": 32,
   "metadata": {},
   "outputs": [],
   "source": [
    "#P(Positive/t)\n",
    "res = float(P_t_intersection_positive/P_t)"
   ]
  },
  {
   "cell_type": "code",
   "execution_count": 33,
   "metadata": {},
   "outputs": [
    {
     "data": {
      "text/plain": [
       "0.9317773788150808"
      ]
     },
     "metadata": {},
     "output_type": "display_data"
    }
   ],
   "source": [
    "display(res)"
   ]
  },
  {
   "cell_type": "code",
   "execution_count": 31,
   "metadata": {},
   "outputs": [],
   "source": [
    "#Upon manual inspection it was found that female with the age 43 has a positive class"
   ]
  },
  {
   "cell_type": "code",
   "execution_count": 34,
   "metadata": {},
   "outputs": [
    {
     "data": {
      "text/html": [
       "<div>\n",
       "<style scoped>\n",
       "    .dataframe tbody tr th:only-of-type {\n",
       "        vertical-align: middle;\n",
       "    }\n",
       "\n",
       "    .dataframe tbody tr th {\n",
       "        vertical-align: top;\n",
       "    }\n",
       "\n",
       "    .dataframe thead th {\n",
       "        text-align: right;\n",
       "    }\n",
       "</style>\n",
       "<table border=\"1\" class=\"dataframe\">\n",
       "  <thead>\n",
       "    <tr style=\"text-align: right;\">\n",
       "      <th></th>\n",
       "      <th>Age Group</th>\n",
       "      <th>Positive</th>\n",
       "      <th>Negative</th>\n",
       "    </tr>\n",
       "  </thead>\n",
       "  <tbody>\n",
       "    <tr>\n",
       "      <th>0</th>\n",
       "      <td>&lt;=30</td>\n",
       "      <td>0.046875</td>\n",
       "      <td>0.150</td>\n",
       "    </tr>\n",
       "    <tr>\n",
       "      <th>1</th>\n",
       "      <td>31-40</td>\n",
       "      <td>0.262500</td>\n",
       "      <td>0.195</td>\n",
       "    </tr>\n",
       "    <tr>\n",
       "      <th>2</th>\n",
       "      <td>41-50</td>\n",
       "      <td>0.271875</td>\n",
       "      <td>0.290</td>\n",
       "    </tr>\n",
       "    <tr>\n",
       "      <th>3</th>\n",
       "      <td>51-60</td>\n",
       "      <td>0.243750</td>\n",
       "      <td>0.245</td>\n",
       "    </tr>\n",
       "    <tr>\n",
       "      <th>4</th>\n",
       "      <td>61-70</td>\n",
       "      <td>0.153125</td>\n",
       "      <td>0.085</td>\n",
       "    </tr>\n",
       "    <tr>\n",
       "      <th>5</th>\n",
       "      <td>71-80</td>\n",
       "      <td>0.009375</td>\n",
       "      <td>0.035</td>\n",
       "    </tr>\n",
       "    <tr>\n",
       "      <th>6</th>\n",
       "      <td>&gt;80</td>\n",
       "      <td>0.012500</td>\n",
       "      <td>0.000</td>\n",
       "    </tr>\n",
       "  </tbody>\n",
       "</table>\n",
       "</div>"
      ],
      "text/plain": [
       "  Age Group  Positive  Negative\n",
       "0      <=30  0.046875     0.150\n",
       "1     31-40  0.262500     0.195\n",
       "2     41-50  0.271875     0.290\n",
       "3     51-60  0.243750     0.245\n",
       "4     61-70  0.153125     0.085\n",
       "5     71-80  0.009375     0.035\n",
       "6       >80  0.012500     0.000"
      ]
     },
     "metadata": {},
     "output_type": "display_data"
    }
   ],
   "source": [
    "display(df4) #Probability of the age group being positive or negative"
   ]
  },
  {
   "cell_type": "code",
   "execution_count": 35,
   "metadata": {},
   "outputs": [
    {
     "data": {
      "text/html": [
       "<div>\n",
       "<style scoped>\n",
       "    .dataframe tbody tr th:only-of-type {\n",
       "        vertical-align: middle;\n",
       "    }\n",
       "\n",
       "    .dataframe tbody tr th {\n",
       "        vertical-align: top;\n",
       "    }\n",
       "\n",
       "    .dataframe thead th {\n",
       "        text-align: right;\n",
       "    }\n",
       "</style>\n",
       "<table border=\"1\" class=\"dataframe\">\n",
       "  <thead>\n",
       "    <tr style=\"text-align: right;\">\n",
       "      <th></th>\n",
       "      <th>Gender</th>\n",
       "      <th>Positive</th>\n",
       "      <th>Negative</th>\n",
       "    </tr>\n",
       "  </thead>\n",
       "  <tbody>\n",
       "    <tr>\n",
       "      <th>0</th>\n",
       "      <td>Male</td>\n",
       "      <td>0.282692</td>\n",
       "      <td>0.348077</td>\n",
       "    </tr>\n",
       "    <tr>\n",
       "      <th>1</th>\n",
       "      <td>Female</td>\n",
       "      <td>0.332692</td>\n",
       "      <td>0.036538</td>\n",
       "    </tr>\n",
       "    <tr>\n",
       "      <th>2</th>\n",
       "      <td>Total</td>\n",
       "      <td>0.615385</td>\n",
       "      <td>0.384615</td>\n",
       "    </tr>\n",
       "  </tbody>\n",
       "</table>\n",
       "</div>"
      ],
      "text/plain": [
       "   Gender  Positive  Negative\n",
       "0    Male  0.282692  0.348077\n",
       "1  Female  0.332692  0.036538\n",
       "2   Total  0.615385  0.384615"
      ]
     },
     "metadata": {},
     "output_type": "display_data"
    }
   ],
   "source": [
    "display(df1) #Probability of the age group being positive or negative"
   ]
  },
  {
   "cell_type": "code",
   "execution_count": 36,
   "metadata": {},
   "outputs": [
    {
     "data": {
      "text/html": [
       "<div>\n",
       "<style scoped>\n",
       "    .dataframe tbody tr th:only-of-type {\n",
       "        vertical-align: middle;\n",
       "    }\n",
       "\n",
       "    .dataframe tbody tr th {\n",
       "        vertical-align: top;\n",
       "    }\n",
       "\n",
       "    .dataframe thead th {\n",
       "        text-align: right;\n",
       "    }\n",
       "</style>\n",
       "<table border=\"1\" class=\"dataframe\">\n",
       "  <thead>\n",
       "    <tr style=\"text-align: right;\">\n",
       "      <th></th>\n",
       "      <th>Gender</th>\n",
       "      <th>Positive</th>\n",
       "      <th>Negative</th>\n",
       "    </tr>\n",
       "  </thead>\n",
       "  <tbody>\n",
       "    <tr>\n",
       "      <th>0</th>\n",
       "      <td>Male</td>\n",
       "      <td>0.459375</td>\n",
       "      <td>0.905</td>\n",
       "    </tr>\n",
       "    <tr>\n",
       "      <th>1</th>\n",
       "      <td>Female</td>\n",
       "      <td>0.540625</td>\n",
       "      <td>0.095</td>\n",
       "    </tr>\n",
       "    <tr>\n",
       "      <th>2</th>\n",
       "      <td>Total</td>\n",
       "      <td>320.000000</td>\n",
       "      <td>200.000</td>\n",
       "    </tr>\n",
       "  </tbody>\n",
       "</table>\n",
       "</div>"
      ],
      "text/plain": [
       "   Gender    Positive  Negative\n",
       "0    Male    0.459375     0.905\n",
       "1  Female    0.540625     0.095\n",
       "2   Total  320.000000   200.000"
      ]
     },
     "metadata": {},
     "output_type": "display_data"
    }
   ],
   "source": [
    "display(df2)"
   ]
  },
  {
   "cell_type": "code",
   "execution_count": 38,
   "metadata": {},
   "outputs": [],
   "source": [
    "#First 100 rows and 2 columns: Age and Gender of the given dataset were considered for the test dataset\n",
    "da_test = pd.read_excel(\"C:\\MTech Data Science\\Mini Project\\Diabetes_Test.xlsx\")"
   ]
  },
  {
   "cell_type": "code",
   "execution_count": 39,
   "metadata": {},
   "outputs": [
    {
     "data": {
      "text/html": [
       "<div>\n",
       "<style scoped>\n",
       "    .dataframe tbody tr th:only-of-type {\n",
       "        vertical-align: middle;\n",
       "    }\n",
       "\n",
       "    .dataframe tbody tr th {\n",
       "        vertical-align: top;\n",
       "    }\n",
       "\n",
       "    .dataframe thead th {\n",
       "        text-align: right;\n",
       "    }\n",
       "</style>\n",
       "<table border=\"1\" class=\"dataframe\">\n",
       "  <thead>\n",
       "    <tr style=\"text-align: right;\">\n",
       "      <th></th>\n",
       "      <th>Age</th>\n",
       "      <th>Gender</th>\n",
       "      <th>class</th>\n",
       "    </tr>\n",
       "  </thead>\n",
       "  <tbody>\n",
       "    <tr>\n",
       "      <th>0</th>\n",
       "      <td>40</td>\n",
       "      <td>Male</td>\n",
       "      <td>0</td>\n",
       "    </tr>\n",
       "    <tr>\n",
       "      <th>1</th>\n",
       "      <td>58</td>\n",
       "      <td>Male</td>\n",
       "      <td>0</td>\n",
       "    </tr>\n",
       "    <tr>\n",
       "      <th>2</th>\n",
       "      <td>41</td>\n",
       "      <td>Male</td>\n",
       "      <td>0</td>\n",
       "    </tr>\n",
       "    <tr>\n",
       "      <th>3</th>\n",
       "      <td>45</td>\n",
       "      <td>Male</td>\n",
       "      <td>0</td>\n",
       "    </tr>\n",
       "    <tr>\n",
       "      <th>4</th>\n",
       "      <td>60</td>\n",
       "      <td>Male</td>\n",
       "      <td>0</td>\n",
       "    </tr>\n",
       "  </tbody>\n",
       "</table>\n",
       "</div>"
      ],
      "text/plain": [
       "   Age Gender  class\n",
       "0   40   Male      0\n",
       "1   58   Male      0\n",
       "2   41   Male      0\n",
       "3   45   Male      0\n",
       "4   60   Male      0"
      ]
     },
     "execution_count": 39,
     "metadata": {},
     "output_type": "execute_result"
    }
   ],
   "source": [
    "da_test[0:5]"
   ]
  },
  {
   "cell_type": "code",
   "execution_count": 40,
   "metadata": {},
   "outputs": [],
   "source": [
    "#Built a Naive Bayes classifier for 2 input features: Age and Gender based on the frequency tables: df1, df2, df4\n",
    "p_t_pos = float(0.0)\n",
    "p_t_neg = float(0.0)\n",
    "for i in range(len(da_test)):\n",
    "    #Checking the person's gender whether male or female\n",
    "    if da_test.iloc[i,1] == 'Male':\n",
    "        #If age is less that or equal to 30\n",
    "        if da_test.iloc[i,0] <=30:\n",
    "            p_t_pos = df2.iloc[0,1] * df4.iloc[0,1] * df1.iloc[2,1]\n",
    "            p_t_neg = df2.iloc[0,2] * df4.iloc[0,2] * df1.iloc[2,2]\n",
    "        \n",
    "        #If Age: 31 - 40\n",
    "        elif da_test.iloc[i,0] >30 and da_test.iloc[i,0] <=40:\n",
    "            p_t_pos = df2.iloc[0,1] * df4.iloc[1,1] * df1.iloc[2,1]\n",
    "            p_t_neg = df2.iloc[0,2] * df4.iloc[1,2] * df1.iloc[2,2]\n",
    "        \n",
    "        #If Age: 41 - 50\n",
    "        elif da_test.iloc[i,0] >40 and da_test.iloc[i,0] <=50:\n",
    "            p_t_pos = df2.iloc[0,1] * df4.iloc[2,1] * df1.iloc[2,1]\n",
    "            p_t_neg = df2.iloc[0,2] * df4.iloc[2,2] * df1.iloc[2,2]\n",
    "        \n",
    "        #If Age: 51 - 60\n",
    "        elif da_test.iloc[i,0] >50 and da_test.iloc[i,0] <=60:\n",
    "            p_t_pos = df2.iloc[0,1] * df4.iloc[3,1] * df1.iloc[2,1]\n",
    "            p_t_neg = df2.iloc[0,2] * df4.iloc[3,2] * df1.iloc[2,2]\n",
    "        \n",
    "        #If Age: 61 - 70    \n",
    "        elif da_test.iloc[i,0] >60 and da_test.iloc[i,0] <=70:\n",
    "            p_t_pos = df2.iloc[0,1] * df4.iloc[4,1] * df1.iloc[2,1]\n",
    "            p_t_neg = df2.iloc[0,2] * df4.iloc[4,2] * df1.iloc[2,2]\n",
    "        \n",
    "        #If Age: 71 - 80\n",
    "        elif da_test.iloc[i,0] >70 and da_test.iloc[i,0] <=80:\n",
    "            p_t_pos = df2.iloc[0,1] * df4.iloc[5,1] * df1.iloc[2,1]\n",
    "            p_t_neg = df2.iloc[0,2] * df4.iloc[5,2] * df1.iloc[2,2]\n",
    "        \n",
    "        #If Age > 80\n",
    "        else:\n",
    "            p_t_pos = df2.iloc[0,1] * df4.iloc[6,1] * df1.iloc[2,1]\n",
    "            p_t_neg = df2.iloc[0,2] * df4.iloc[6,2] * df1.iloc[2,2]\n",
    "        \n",
    "        #Decision for Positive or Negative for diabetes\n",
    "        if p_t_pos >= p_t_neg:\n",
    "            da_test.iloc[i,2] = 'Positive'\n",
    "        else:\n",
    "            da_test.iloc[i,2] = 'Negative'\n",
    "    \n",
    "    else:\n",
    "        #If age is less that or equal to 30\n",
    "        if da_test.iloc[i,0] <=30:\n",
    "            p_t_pos = df2.iloc[1,1] * df4.iloc[0,1] * df1.iloc[2,1]\n",
    "            p_t_neg = df2.iloc[1,2] * df4.iloc[0,2] * df1.iloc[2,2]\n",
    "        \n",
    "        #If Age: 31 - 40\n",
    "        elif da_test.iloc[i,0] >30 and da_test.iloc[i,0] <=40:\n",
    "            p_t_pos = df2.iloc[1,1] * df4.iloc[1,1] * df1.iloc[2,1]\n",
    "            p_t_neg = df2.iloc[1,2] * df4.iloc[1,2] * df1.iloc[2,2]\n",
    "        \n",
    "        #If Age: 41 - 50\n",
    "        elif da_test.iloc[i,0] >40 and da_test.iloc[i,0] <=50:\n",
    "            p_t_pos = df2.iloc[1,1] * df4.iloc[2,1] * df1.iloc[2,1]\n",
    "            p_t_neg = df2.iloc[1,2] * df4.iloc[2,2] * df1.iloc[2,2]\n",
    "        \n",
    "        #If Age: 51 - 60\n",
    "        elif da_test.iloc[i,0] >50 and da_test.iloc[i,0] <=60:\n",
    "            p_t_pos = df2.iloc[1,1] * df4.iloc[3,1] * df1.iloc[2,1]\n",
    "            p_t_neg = df2.iloc[1,2] * df4.iloc[3,2] * df1.iloc[2,2]\n",
    "        \n",
    "        #If Age: 61 - 70\n",
    "        elif da_test.iloc[i,0] >60 and da_test.iloc[i,0] <=70:\n",
    "            p_t_pos = df2.iloc[1,1] * df4.iloc[4,1] * df1.iloc[2,1]\n",
    "            p_t_neg = df2.iloc[1,2] * df4.iloc[4,2] * df1.iloc[2,2]\n",
    "        \n",
    "        #If Age: 71 - 80\n",
    "        elif da_test.iloc[i,0] >70 and da_test.iloc[i,0] <=80:\n",
    "            p_t_pos = df2.iloc[1,1] * df4.iloc[5,1] * df1.iloc[2,1]\n",
    "            p_t_neg = df2.iloc[1,2] * df4.iloc[5,2] * df1.iloc[2,2]\n",
    "        \n",
    "        #If Age > 80    \n",
    "        else:\n",
    "            p_t_pos = df2.iloc[1,1] * df4.iloc[6,1] * df1.iloc[2,1]\n",
    "            p_t_neg = df2.iloc[1,2] * df4.iloc[6,2] * df1.iloc[2,2]\n",
    "        \n",
    "        #Decision for Positive or Negative for diabetes\n",
    "        if p_t_pos >= p_t_neg:\n",
    "            da_test.iloc[i,2] = 'Positive'\n",
    "        else:\n",
    "            da_test.iloc[i,2] = 'Negative'"
   ]
  },
  {
   "cell_type": "code",
   "execution_count": 41,
   "metadata": {},
   "outputs": [],
   "source": [
    "da_final =da_test"
   ]
  },
  {
   "cell_type": "code",
   "execution_count": 42,
   "metadata": {},
   "outputs": [
    {
     "data": {
      "text/html": [
       "<div>\n",
       "<style scoped>\n",
       "    .dataframe tbody tr th:only-of-type {\n",
       "        vertical-align: middle;\n",
       "    }\n",
       "\n",
       "    .dataframe tbody tr th {\n",
       "        vertical-align: top;\n",
       "    }\n",
       "\n",
       "    .dataframe thead th {\n",
       "        text-align: right;\n",
       "    }\n",
       "</style>\n",
       "<table border=\"1\" class=\"dataframe\">\n",
       "  <thead>\n",
       "    <tr style=\"text-align: right;\">\n",
       "      <th></th>\n",
       "      <th>Age</th>\n",
       "      <th>Gender</th>\n",
       "      <th>class</th>\n",
       "    </tr>\n",
       "  </thead>\n",
       "  <tbody>\n",
       "    <tr>\n",
       "      <th>0</th>\n",
       "      <td>40</td>\n",
       "      <td>Male</td>\n",
       "      <td>Positive</td>\n",
       "    </tr>\n",
       "    <tr>\n",
       "      <th>1</th>\n",
       "      <td>58</td>\n",
       "      <td>Male</td>\n",
       "      <td>Negative</td>\n",
       "    </tr>\n",
       "    <tr>\n",
       "      <th>2</th>\n",
       "      <td>41</td>\n",
       "      <td>Male</td>\n",
       "      <td>Negative</td>\n",
       "    </tr>\n",
       "    <tr>\n",
       "      <th>3</th>\n",
       "      <td>45</td>\n",
       "      <td>Male</td>\n",
       "      <td>Negative</td>\n",
       "    </tr>\n",
       "    <tr>\n",
       "      <th>4</th>\n",
       "      <td>60</td>\n",
       "      <td>Male</td>\n",
       "      <td>Negative</td>\n",
       "    </tr>\n",
       "  </tbody>\n",
       "</table>\n",
       "</div>"
      ],
      "text/plain": [
       "   Age Gender     class\n",
       "0   40   Male  Positive\n",
       "1   58   Male  Negative\n",
       "2   41   Male  Negative\n",
       "3   45   Male  Negative\n",
       "4   60   Male  Negative"
      ]
     },
     "execution_count": 42,
     "metadata": {},
     "output_type": "execute_result"
    }
   ],
   "source": [
    "da_final[0:5]"
   ]
  },
  {
   "cell_type": "code",
   "execution_count": 43,
   "metadata": {},
   "outputs": [],
   "source": [
    "da_final.to_excel('C:\\MTech Data Science\\Mini Project\\Diabetes_Final.xlsx', sheet_name='Sheet1')"
   ]
  },
  {
   "cell_type": "code",
   "execution_count": 44,
   "metadata": {},
   "outputs": [],
   "source": [
    "#Upon manual inspection we found 77 target values were correct out of 100: Hence accuracy:(0.77) 77% when 2 input features\n",
    "#considered"
   ]
  },
  {
   "cell_type": "code",
   "execution_count": 46,
   "metadata": {},
   "outputs": [],
   "source": [
    "data1 = {'Polyuria':['Yes','No'], 'Positive':[int(0), int(0)],'Negative':[int(0), int(0)]}\n",
    "df5 = pd.DataFrame(data1, columns=['Polyuria', 'Positive', 'Negative'])"
   ]
  },
  {
   "cell_type": "code",
   "execution_count": 47,
   "metadata": {},
   "outputs": [],
   "source": [
    "for i in range(len(da)):\n",
    "    if da.iloc[i,2] == 'Yes':\n",
    "        if da.iloc[i,-1] == 'Positive':\n",
    "            df5.iloc[0,1] = df5.iloc[0,1] + 1\n",
    "        else:\n",
    "            df5.iloc[0,2] = df5.iloc[0,2] + 1\n",
    "    elif da.iloc[i,2] == 'No':\n",
    "        if da.iloc[i,-1] == 'Positive':\n",
    "            df5.iloc[1,1] = df5.iloc[1,1] + 1\n",
    "        else:\n",
    "            df5.iloc[1,2] = df5.iloc[1,2] + 1\n",
    "    else:\n",
    "        pass"
   ]
  },
  {
   "cell_type": "code",
   "execution_count": 48,
   "metadata": {},
   "outputs": [
    {
     "data": {
      "text/html": [
       "<div>\n",
       "<style scoped>\n",
       "    .dataframe tbody tr th:only-of-type {\n",
       "        vertical-align: middle;\n",
       "    }\n",
       "\n",
       "    .dataframe tbody tr th {\n",
       "        vertical-align: top;\n",
       "    }\n",
       "\n",
       "    .dataframe thead th {\n",
       "        text-align: right;\n",
       "    }\n",
       "</style>\n",
       "<table border=\"1\" class=\"dataframe\">\n",
       "  <thead>\n",
       "    <tr style=\"text-align: right;\">\n",
       "      <th></th>\n",
       "      <th>Polyuria</th>\n",
       "      <th>Positive</th>\n",
       "      <th>Negative</th>\n",
       "    </tr>\n",
       "  </thead>\n",
       "  <tbody>\n",
       "    <tr>\n",
       "      <th>0</th>\n",
       "      <td>Yes</td>\n",
       "      <td>243</td>\n",
       "      <td>15</td>\n",
       "    </tr>\n",
       "    <tr>\n",
       "      <th>1</th>\n",
       "      <td>No</td>\n",
       "      <td>77</td>\n",
       "      <td>185</td>\n",
       "    </tr>\n",
       "  </tbody>\n",
       "</table>\n",
       "</div>"
      ],
      "text/plain": [
       "  Polyuria  Positive  Negative\n",
       "0      Yes       243        15\n",
       "1       No        77       185"
      ]
     },
     "metadata": {},
     "output_type": "display_data"
    }
   ],
   "source": [
    "display(df5) #Probability that a person has polyuria given Positive/Negative"
   ]
  },
  {
   "cell_type": "code",
   "execution_count": 49,
   "metadata": {},
   "outputs": [
    {
     "data": {
      "text/plain": [
       "320"
      ]
     },
     "metadata": {},
     "output_type": "display_data"
    },
    {
     "data": {
      "text/plain": [
       "200"
      ]
     },
     "metadata": {},
     "output_type": "display_data"
    }
   ],
   "source": [
    "p2 = df5.iloc[:,1].sum()\n",
    "n2 = df5.iloc[:,2].sum()\n",
    "display(p2, n2)"
   ]
  },
  {
   "cell_type": "code",
   "execution_count": 50,
   "metadata": {},
   "outputs": [],
   "source": [
    "df5.iloc[0,1] = float(df5.iloc[0,1]/p2)\n",
    "df5.iloc[1,1] = float(df5.iloc[1,1]/p2)\n",
    "df5.iloc[0,2] = float(df5.iloc[0,2]/n2)\n",
    "df5.iloc[1,2] = float(df5.iloc[1,2]/n2)"
   ]
  },
  {
   "cell_type": "code",
   "execution_count": 51,
   "metadata": {},
   "outputs": [
    {
     "data": {
      "text/html": [
       "<div>\n",
       "<style scoped>\n",
       "    .dataframe tbody tr th:only-of-type {\n",
       "        vertical-align: middle;\n",
       "    }\n",
       "\n",
       "    .dataframe tbody tr th {\n",
       "        vertical-align: top;\n",
       "    }\n",
       "\n",
       "    .dataframe thead th {\n",
       "        text-align: right;\n",
       "    }\n",
       "</style>\n",
       "<table border=\"1\" class=\"dataframe\">\n",
       "  <thead>\n",
       "    <tr style=\"text-align: right;\">\n",
       "      <th></th>\n",
       "      <th>Polyuria</th>\n",
       "      <th>Positive</th>\n",
       "      <th>Negative</th>\n",
       "    </tr>\n",
       "  </thead>\n",
       "  <tbody>\n",
       "    <tr>\n",
       "      <th>0</th>\n",
       "      <td>Yes</td>\n",
       "      <td>0.759375</td>\n",
       "      <td>0.075</td>\n",
       "    </tr>\n",
       "    <tr>\n",
       "      <th>1</th>\n",
       "      <td>No</td>\n",
       "      <td>0.240625</td>\n",
       "      <td>0.925</td>\n",
       "    </tr>\n",
       "  </tbody>\n",
       "</table>\n",
       "</div>"
      ],
      "text/plain": [
       "  Polyuria  Positive  Negative\n",
       "0      Yes  0.759375     0.075\n",
       "1       No  0.240625     0.925"
      ]
     },
     "metadata": {},
     "output_type": "display_data"
    }
   ],
   "source": [
    "#Calculated probabilities for the third input feature Polyuria\n",
    "display(df5)"
   ]
  },
  {
   "cell_type": "code",
   "execution_count": 52,
   "metadata": {},
   "outputs": [],
   "source": [
    "#First 100 rows and 3 columns: Age,Gender and Polyuria of the given dataset were considered for the test dataset\n",
    "da_test1 = pd.read_excel(\"C:\\MTech Data Science\\Mini Project\\Diabetes_Test1.xlsx\")"
   ]
  },
  {
   "cell_type": "code",
   "execution_count": 53,
   "metadata": {},
   "outputs": [
    {
     "data": {
      "text/html": [
       "<div>\n",
       "<style scoped>\n",
       "    .dataframe tbody tr th:only-of-type {\n",
       "        vertical-align: middle;\n",
       "    }\n",
       "\n",
       "    .dataframe tbody tr th {\n",
       "        vertical-align: top;\n",
       "    }\n",
       "\n",
       "    .dataframe thead th {\n",
       "        text-align: right;\n",
       "    }\n",
       "</style>\n",
       "<table border=\"1\" class=\"dataframe\">\n",
       "  <thead>\n",
       "    <tr style=\"text-align: right;\">\n",
       "      <th></th>\n",
       "      <th>Age</th>\n",
       "      <th>Gender</th>\n",
       "      <th>Polyuria</th>\n",
       "      <th>class</th>\n",
       "    </tr>\n",
       "  </thead>\n",
       "  <tbody>\n",
       "    <tr>\n",
       "      <th>0</th>\n",
       "      <td>40</td>\n",
       "      <td>Male</td>\n",
       "      <td>No</td>\n",
       "      <td>0</td>\n",
       "    </tr>\n",
       "    <tr>\n",
       "      <th>1</th>\n",
       "      <td>58</td>\n",
       "      <td>Male</td>\n",
       "      <td>No</td>\n",
       "      <td>0</td>\n",
       "    </tr>\n",
       "    <tr>\n",
       "      <th>2</th>\n",
       "      <td>41</td>\n",
       "      <td>Male</td>\n",
       "      <td>Yes</td>\n",
       "      <td>0</td>\n",
       "    </tr>\n",
       "    <tr>\n",
       "      <th>3</th>\n",
       "      <td>45</td>\n",
       "      <td>Male</td>\n",
       "      <td>No</td>\n",
       "      <td>0</td>\n",
       "    </tr>\n",
       "    <tr>\n",
       "      <th>4</th>\n",
       "      <td>60</td>\n",
       "      <td>Male</td>\n",
       "      <td>Yes</td>\n",
       "      <td>0</td>\n",
       "    </tr>\n",
       "  </tbody>\n",
       "</table>\n",
       "</div>"
      ],
      "text/plain": [
       "   Age Gender Polyuria  class\n",
       "0   40   Male       No      0\n",
       "1   58   Male       No      0\n",
       "2   41   Male      Yes      0\n",
       "3   45   Male       No      0\n",
       "4   60   Male      Yes      0"
      ]
     },
     "execution_count": 53,
     "metadata": {},
     "output_type": "execute_result"
    }
   ],
   "source": [
    "da_test1[0:5]"
   ]
  },
  {
   "cell_type": "code",
   "execution_count": 55,
   "metadata": {},
   "outputs": [],
   "source": [
    "#Built a Naive Bayes classifier for 3 input features: Age,Gender and Polyuria based on the frequency tables: df1, df2, df4, df5\n",
    "p_pos = float(0.0)\n",
    "p_neg = float(0.0)\n",
    "for i in range(len(da_test1)):\n",
    "    #Checking the person's gender whether male or female\n",
    "    if da_test1.iloc[i,1] == 'Male':\n",
    "        \n",
    "        #If Age <=30\n",
    "        if da_test1.iloc[i,0] <=30:\n",
    "            #If person is suffering from polyuria\n",
    "            if da_test1.iloc[i,2] == 'Yes':\n",
    "                p_pos = df2.iloc[0,1] * df4.iloc[0,1] * df1.iloc[2,1] * df5.iloc[0,1]\n",
    "                p_neg = df2.iloc[0,2] * df4.iloc[0,2] * df1.iloc[2,2] * df5.iloc[0,2]\n",
    "            else:\n",
    "                p_pos = df2.iloc[0,1] * df4.iloc[0,1] * df1.iloc[2,1] * df5.iloc[1,1]\n",
    "                p_neg = df2.iloc[0,2] * df4.iloc[0,2] * df1.iloc[2,2] * df5.iloc[1,2]\n",
    "        \n",
    "        #If Age 31 - 40\n",
    "        elif da_test1.iloc[i,0] >30 and da_test.iloc[i,0] <=40:\n",
    "            \n",
    "            #If person is suffering from polyuria\n",
    "            if da_test1.iloc[i,2] == 'Yes':\n",
    "                p_pos = df2.iloc[0,1] * df4.iloc[1,1] * df1.iloc[2,1] * df5.iloc[0,1]\n",
    "                p_neg = df2.iloc[0,2] * df4.iloc[1,2] * df1.iloc[2,2] * df5.iloc[0,2]\n",
    "            else:\n",
    "                p_pos = df2.iloc[0,1] * df4.iloc[1,1] * df1.iloc[2,1] * df5.iloc[1,1]\n",
    "                p_neg = df2.iloc[0,2] * df4.iloc[1,2] * df1.iloc[2,2] * df5.iloc[1,2]\n",
    "        \n",
    "        #If Age 41 - 50\n",
    "        elif da_test1.iloc[i,0] >40 and da_test1.iloc[i,0] <=50:\n",
    "            \n",
    "            #If person is suffering from polyuria\n",
    "            if da_test1.iloc[i,2] == 'Yes':\n",
    "                p_pos = df2.iloc[0,1] * df4.iloc[2,1] * df1.iloc[2,1] * df5.iloc[0,1]\n",
    "                p_neg = df2.iloc[0,2] * df4.iloc[2,2] * df1.iloc[2,2] * df5.iloc[0,2]\n",
    "            else:\n",
    "                p_pos = df2.iloc[0,1] * df4.iloc[2,1] * df1.iloc[2,1] * df5.iloc[1,1]\n",
    "                p_neg = df2.iloc[0,2] * df4.iloc[2,2] * df1.iloc[2,2] * df5.iloc[1,2]\n",
    "        \n",
    "        #If Age 51 - 60\n",
    "        elif da_test1.iloc[i,0] >50 and da_test1.iloc[i,0] <=60:\n",
    "            \n",
    "            #If person is suffering from polyuria\n",
    "            if da_test1.iloc[i,2] == 'Yes':\n",
    "                p_pos = df2.iloc[0,1] * df4.iloc[3,1] * df1.iloc[2,1] * df5.iloc[0,1]\n",
    "                p_neg = df2.iloc[0,2] * df4.iloc[3,2] * df1.iloc[2,2] * df5.iloc[0,2]\n",
    "            else:\n",
    "                p_pos = df2.iloc[0,1] * df4.iloc[3,1] * df1.iloc[2,1] * df5.iloc[1,1]\n",
    "                p_neg = df2.iloc[0,2] * df4.iloc[3,2] * df1.iloc[2,2] * df5.iloc[1,2]\n",
    "        \n",
    "        #If Age 61 - 70\n",
    "        elif da_test1.iloc[i,0] >60 and da_test1.iloc[i,0] <=70:\n",
    "            \n",
    "            #If person is suffering from polyuria\n",
    "            if da_test1.iloc[i,2] == 'Yes':\n",
    "                p_pos = df2.iloc[0,1] * df4.iloc[4,1] * df1.iloc[2,1] * df5.iloc[0,1]\n",
    "                p_neg = df2.iloc[0,2] * df4.iloc[4,2] * df1.iloc[2,2] * df5.iloc[0,2]\n",
    "            else:\n",
    "                p_pos = df2.iloc[0,1] * df4.iloc[4,1] * df1.iloc[2,1] * df5.iloc[1,1]\n",
    "                p_neg = df2.iloc[0,2] * df4.iloc[4,2] * df1.iloc[2,2] * df5.iloc[1,2]\n",
    "                \n",
    "        #If Age 71 - 80\n",
    "        elif da_test1.iloc[i,0] >70 and da_test1.iloc[i,0] <=80:\n",
    "            \n",
    "            #If person is suffering from polyuria\n",
    "            if da_test1.iloc[i,2] == 'Yes':\n",
    "                p_pos = df2.iloc[0,1] * df4.iloc[5,1] * df1.iloc[2,1] * df5.iloc[0,1]\n",
    "                p_neg = df2.iloc[0,2] * df4.iloc[5,2] * df1.iloc[2,2] * df5.iloc[0,2]\n",
    "            else:\n",
    "                p_pos = df2.iloc[0,1] * df4.iloc[5,1] * df1.iloc[2,1] * df5.iloc[1,1]\n",
    "                p_neg = df2.iloc[0,2] * df4.iloc[5,2] * df1.iloc[2,2] * df5.iloc[1,2]\n",
    "            \n",
    "        #If Age >= 80\n",
    "        else:\n",
    "            \n",
    "            #If person is suffering from polyuria\n",
    "            if da_test1.iloc[i,2] == 'Yes':\n",
    "                p_pos = df2.iloc[0,1] * df4.iloc[6,1] * df1.iloc[2,1] * df5.iloc[0,1]\n",
    "                p_neg = df2.iloc[0,2] * df4.iloc[6,2] * df1.iloc[2,2] * df5.iloc[0,2]\n",
    "            else:\n",
    "                p_pos = df2.iloc[0,1] * df4.iloc[6,1] * df1.iloc[2,1] * df5.iloc[1,1]\n",
    "                p_neg = df2.iloc[0,2] * df4.iloc[6,2] * df1.iloc[2,2] * df5.iloc[1,2]\n",
    "        \n",
    "        #Decision for Positive or Negative for diabetes\n",
    "        if p_pos >= p_neg:\n",
    "            da_test1.iloc[i,3] = 'Positive'\n",
    "        else:\n",
    "            da_test1.iloc[i,3] = 'Negative'\n",
    "    \n",
    "    else:\n",
    "        #If Age <= 30\n",
    "        if da_test1.iloc[i,0] <=30:\n",
    "            \n",
    "            #If person is suffering from polyuria\n",
    "            if da_test1.iloc[i,2] == 'Yes':\n",
    "                p_pos = df2.iloc[1,1] * df4.iloc[0,1] * df1.iloc[2,1] * df5.iloc[0,1]\n",
    "                p_neg = df2.iloc[1,2] * df4.iloc[0,2] * df1.iloc[2,2] * df5.iloc[0,2]\n",
    "            else:\n",
    "                p_pos = df2.iloc[1,1] * df4.iloc[0,1] * df1.iloc[2,1] * df5.iloc[1,1]\n",
    "                p_neg = df2.iloc[1,2] * df4.iloc[0,2] * df1.iloc[2,2] * df5.iloc[1,2]\n",
    "        \n",
    "        #If Age 31 - 40\n",
    "        elif da_test1.iloc[i,0] >30 and da_test1.iloc[i,0] <=40:\n",
    "            \n",
    "            #If person is suffering from polyuria\n",
    "            if da_test1.iloc[i,2] == 'Yes':\n",
    "                p_pos = df2.iloc[1,1] * df4.iloc[1,1] * df1.iloc[2,1] * df5.iloc[0,1]\n",
    "                p_neg = df2.iloc[1,2] * df4.iloc[1,2] * df1.iloc[2,2] * df5.iloc[0,2]\n",
    "            else:\n",
    "                p_pos = df2.iloc[1,1] * df4.iloc[1,1] * df1.iloc[2,1] * df5.iloc[1,1]\n",
    "                p_neg = df2.iloc[1,2] * df4.iloc[1,2] * df1.iloc[2,2] * df5.iloc[1,2]\n",
    "        \n",
    "        #If Age 41 - 50\n",
    "        elif da_test1.iloc[i,0] >40 and da_test1.iloc[i,0] <=50:\n",
    "            \n",
    "            #If person is suffering from polyuria\n",
    "            if da_test1.iloc[i,2] == 'Yes':\n",
    "                p_pos = df2.iloc[1,1] * df4.iloc[2,1] * df1.iloc[2,1] * df5.iloc[0,1]\n",
    "                p_neg = df2.iloc[1,2] * df4.iloc[2,2] * df1.iloc[2,2] * df5.iloc[0,2]\n",
    "            else:\n",
    "                p_pos = df2.iloc[1,1] * df4.iloc[2,1] * df1.iloc[2,1] * df5.iloc[1,1]\n",
    "                p_neg = df2.iloc[1,2] * df4.iloc[2,2] * df1.iloc[2,2] * df5.iloc[1,2]\n",
    "        \n",
    "        #If Age 51 - 60\n",
    "        elif da_test1.iloc[i,0] >50 and da_test1.iloc[i,0] <=60:\n",
    "            \n",
    "            #If person is suffering from polyuria\n",
    "            if da_test1.iloc[i,2] == 'Yes':\n",
    "                p_pos = df2.iloc[1,1] * df4.iloc[3,1] * df1.iloc[2,1] * df5.iloc[0,1]\n",
    "                p_neg = df2.iloc[1,2] * df4.iloc[3,2] * df1.iloc[2,2] * df5.iloc[0,2]\n",
    "            else:\n",
    "                p_pos = df2.iloc[1,1] * df4.iloc[3,1] * df1.iloc[2,1] * df5.iloc[1,1]\n",
    "                p_neg = df2.iloc[1,2] * df4.iloc[3,2] * df1.iloc[2,2] * df5.iloc[1,2]\n",
    "        \n",
    "        #If Age 61 - 70\n",
    "        elif da_test1.iloc[i,0] >60 and da_test1.iloc[i,0] <=70:\n",
    "            \n",
    "            #If person is suffering from polyuria\n",
    "            if da_test1.iloc[i,2] == 'Yes':\n",
    "                p_pos = df2.iloc[1,1] * df4.iloc[4,1] * df1.iloc[2,1] * df5.iloc[0,1]\n",
    "                p_neg = df2.iloc[1,2] * df4.iloc[4,2] * df1.iloc[2,2] * df5.iloc[0,2]\n",
    "            else:\n",
    "                p_pos = df2.iloc[1,1] * df4.iloc[4,1] * df1.iloc[2,1] * df5.iloc[1,1]\n",
    "                p_neg = df2.iloc[1,2] * df4.iloc[4,2] * df1.iloc[2,2] * df5.iloc[1,2]\n",
    "        \n",
    "        #If Age 71 - 80\n",
    "        elif da_test1.iloc[i,0] >70 and da_test1.iloc[i,0] <=80:\n",
    "            \n",
    "            #If person is suffering from polyuria\n",
    "            if da_test1.iloc[i,2] == 'Yes':\n",
    "                p_pos = df2.iloc[1,1] * df4.iloc[5,1] * df1.iloc[2,1] * df5.iloc[0,1]\n",
    "                p_neg = df2.iloc[1,2] * df4.iloc[5,2] * df1.iloc[2,2] * df5.iloc[0,2]\n",
    "            else:\n",
    "                p_pos = df2.iloc[1,1] * df4.iloc[5,1] * df1.iloc[2,1] * df5.iloc[1,1]\n",
    "                p_neg = df2.iloc[1,2] * df4.iloc[5,2] * df1.iloc[2,2] * df5.iloc[1,2]\n",
    "        \n",
    "        #If Age >= 80\n",
    "        else:\n",
    "            \n",
    "            #If person is suffering from polyuria\n",
    "            if da_test1.iloc[i,2] == 'Yes':\n",
    "                p_pos = df2.iloc[1,1] * df4.iloc[6,1] * df1.iloc[2,1] * df5.iloc[0,1]\n",
    "                p_neg = df2.iloc[1,2] * df4.iloc[6,2] * df1.iloc[2,2] * df5.iloc[0,2]\n",
    "            else:\n",
    "                p_pos = df2.iloc[1,1] * df4.iloc[6,1] * df1.iloc[2,1] * df5.iloc[1,1]\n",
    "                p_neg = df2.iloc[1,2] * df4.iloc[6,2] * df1.iloc[2,2] * df5.iloc[1,2]\n",
    "        \n",
    "        #Decision for Positive or Negative for diabetes\n",
    "        if p_pos >= p_neg:\n",
    "            da_test1.iloc[i,3] = 'Positive'\n",
    "        else:\n",
    "            da_test1.iloc[i,3] = 'Negative'"
   ]
  },
  {
   "cell_type": "code",
   "execution_count": 56,
   "metadata": {},
   "outputs": [],
   "source": [
    "da_final1 =da_test1"
   ]
  },
  {
   "cell_type": "code",
   "execution_count": 57,
   "metadata": {},
   "outputs": [
    {
     "data": {
      "text/html": [
       "<div>\n",
       "<style scoped>\n",
       "    .dataframe tbody tr th:only-of-type {\n",
       "        vertical-align: middle;\n",
       "    }\n",
       "\n",
       "    .dataframe tbody tr th {\n",
       "        vertical-align: top;\n",
       "    }\n",
       "\n",
       "    .dataframe thead th {\n",
       "        text-align: right;\n",
       "    }\n",
       "</style>\n",
       "<table border=\"1\" class=\"dataframe\">\n",
       "  <thead>\n",
       "    <tr style=\"text-align: right;\">\n",
       "      <th></th>\n",
       "      <th>Age</th>\n",
       "      <th>Gender</th>\n",
       "      <th>Polyuria</th>\n",
       "      <th>class</th>\n",
       "    </tr>\n",
       "  </thead>\n",
       "  <tbody>\n",
       "    <tr>\n",
       "      <th>0</th>\n",
       "      <td>40</td>\n",
       "      <td>Male</td>\n",
       "      <td>No</td>\n",
       "      <td>Negative</td>\n",
       "    </tr>\n",
       "    <tr>\n",
       "      <th>1</th>\n",
       "      <td>58</td>\n",
       "      <td>Male</td>\n",
       "      <td>No</td>\n",
       "      <td>Negative</td>\n",
       "    </tr>\n",
       "    <tr>\n",
       "      <th>2</th>\n",
       "      <td>41</td>\n",
       "      <td>Male</td>\n",
       "      <td>Yes</td>\n",
       "      <td>Positive</td>\n",
       "    </tr>\n",
       "    <tr>\n",
       "      <th>3</th>\n",
       "      <td>45</td>\n",
       "      <td>Male</td>\n",
       "      <td>No</td>\n",
       "      <td>Negative</td>\n",
       "    </tr>\n",
       "    <tr>\n",
       "      <th>4</th>\n",
       "      <td>60</td>\n",
       "      <td>Male</td>\n",
       "      <td>Yes</td>\n",
       "      <td>Positive</td>\n",
       "    </tr>\n",
       "  </tbody>\n",
       "</table>\n",
       "</div>"
      ],
      "text/plain": [
       "   Age Gender Polyuria     class\n",
       "0   40   Male       No  Negative\n",
       "1   58   Male       No  Negative\n",
       "2   41   Male      Yes  Positive\n",
       "3   45   Male       No  Negative\n",
       "4   60   Male      Yes  Positive"
      ]
     },
     "execution_count": 57,
     "metadata": {},
     "output_type": "execute_result"
    }
   ],
   "source": [
    "da_final1[0:5]"
   ]
  },
  {
   "cell_type": "code",
   "execution_count": 58,
   "metadata": {},
   "outputs": [],
   "source": [
    "da_final1.to_excel('C:\\MTech Data Science\\Mini Project\\Diabetes_Final1.xlsx', sheet_name='Sheet1')"
   ]
  },
  {
   "cell_type": "code",
   "execution_count": null,
   "metadata": {},
   "outputs": [],
   "source": [
    "#Upon Manual inspection we found that 88 target values out of 100 are correct, thus accuracy: (0.88) 88%"
   ]
  }
 ],
 "metadata": {
  "kernelspec": {
   "display_name": "Python 3",
   "language": "python",
   "name": "python3"
  },
  "language_info": {
   "codemirror_mode": {
    "name": "ipython",
    "version": 3
   },
   "file_extension": ".py",
   "mimetype": "text/x-python",
   "name": "python",
   "nbconvert_exporter": "python",
   "pygments_lexer": "ipython3",
   "version": "3.8.3"
  }
 },
 "nbformat": 4,
 "nbformat_minor": 4
}
